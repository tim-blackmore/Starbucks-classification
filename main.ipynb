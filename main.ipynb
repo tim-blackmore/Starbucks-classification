{
 "cells": [
  {
   "cell_type": "code",
   "execution_count": 1,
   "outputs": [],
   "source": [
    "import matplotlib\n",
    "import numpy as np\n",
    "import pandas as pd\n",
    "from sklearn.compose import ColumnTransformer\n",
    "from sklearn.ensemble import RandomForestClassifier, AdaBoostClassifier\n",
    "from sklearn.metrics import classification_report, plot_confusion_matrix\n",
    "from sklearn.model_selection import train_test_split, GridSearchCV\n",
    "from sklearn.pipeline import Pipeline\n",
    "from sklearn.preprocessing import MultiLabelBinarizer\n",
    "from sklearn.preprocessing import MinMaxScaler\n",
    "from imblearn.over_sampling import SMOTE\n",
    "\n",
    "%matplotlib inline"
   ],
   "metadata": {
    "collapsed": false,
    "pycharm": {
     "name": "#%%\n"
    }
   }
  },
  {
   "cell_type": "markdown",
   "source": [
    "## Project Overview\n",
    "\n",
    "For my capstone project, I aim to answer two business questions.\n",
    "\n",
    "1. Are there differences in demographics between users who successfully complete offers, versus those who do not?\n",
    "2. Can we predict whether a user will successfully complete an offer?\n",
    "\n",
    "The motivation behind these questions is as follows. Being able to predict who will use offers allows Starbucks to better target its customers. An offer is a carrot on a stick for many customers, and it keeps them coming into the store influencing consumer behavior by building brand loyalty over time. But in that same vein, we also don’t want to send offers to those who 1) won’t use them, as over time they could feel like they are being spammed and 2) some users are happy to spend money without using an offer. If we gave these customers offers Starbucks would be losing money.\n",
    "\n",
    "This capstone project is using data provided by Udacity as part of the Data Scientist Nanodegree course. It contains simulated data that mimics customer behavior on the Starbucks rewards mobile app. The provided background information on the mobile app is that once every few days, Starbucks sends out an offer to users of the mobile app. Some users might not receive any offers during certain weeks, and not all users receive the same offer.\n",
    "\n",
    "## Problem Statement\n",
    "This project will address two questions. Firstly we will undertake an exploratory analysis of the differences in demographics between those customers who take up offers and those who don’t. Secondly, we will build a model to predict who will use the offers we are sending out.\n",
    "We are provided with 3 datasets.\n",
    "\n",
    "- Portfolio. Contains the offer characteristics.\n",
    "- Demographics. Contains the demographic data for each user.\n",
    "- Transcript. Contains the transactional records of all app events.\n",
    "\n",
    "To answer the second question, we will use classification-based supervised machine learning models. To assess the performance of the model, we will keep an eye on accuracy but will predominantly use the F1 score. The F1 is more useful in cases where the dataset is unbalanced, and although we are balancing the dataset using SMOTE, the synthetic samples are still pulled from the same data distribution so we feel it is better to be cautious.\n",
    "\n",
    "The F1 score is defined as the harmonic mean of precision and recall and focuses on positive cases. For our project, it would prioritize more on whether offers are successfully completed, and less focus on why offers are not completed.\n"
   ],
   "metadata": {
    "collapsed": false,
    "pycharm": {
     "name": "#%% md\n"
    }
   }
  },
  {
   "cell_type": "markdown",
   "source": [
    "## Transcript data"
   ],
   "metadata": {
    "collapsed": false
   }
  },
  {
   "cell_type": "markdown",
   "source": [
    "At first glance, this seemed simple. Filter rows to 'offer completed' and I've got my dataset to train my model. Boy was\n",
    "I wrong! After reading the Udacity Mentor help I was directed to a post on Towards Data Science that helped me appreciate\n",
    "the nuances of the data and how to categorise a successful offer. So credit to the author (Syuen Loh) for the assistance in\n",
    "classifying a successful transaction.\n",
    "\n",
    "https://towardsdatascience.com/using-starbucks-app-user-data-to-predict-effective-offers-20b799f3a6d5\n",
    "\n",
    "To answer the research question, I need to define what constitutes a successful offer.\n",
    "\n",
    "There are four events (offer completed, offer received, offer viewed and transaction), but there are no events types\n",
    "for one of our events (Transactions). Therefore we first need to work out how we can assign offer_id's to certain\n",
    "transactions.\n",
    "\n",
    "We can also see that bogo and discount offers have offer completed events but informational ones do not. Therefore we\n",
    "also need to work out how to define an successful offer in this case.\n",
    "\n",
    "### Defining successful offers\n",
    "\n",
    "For a bogo and discount offer, a successful offer would be defined if the following events were recorded in the right\n",
    "sequence in time:\n",
    "\n",
    "`offer received` -> `offer viewed` -> `transaction` -> `offer completed`\n",
    "\n",
    "Meanwhile, for an informational offer, since there is no offer completed event associated with it, we will have to define\n",
    "transactions as a conversion to successful offer:\n",
    "\n",
    "`offer received` -> `offer viewed` -> `transaction`\n",
    "\n",
    "## Assigning offer ids to transactions\n",
    "After defining the approach above, we now have to explore methods to assign offer_ids to specific transactions. Among the considerations is to define the following main groups of customers:\n",
    "\n",
    "### 1. People who are influenced and successfully convert\n",
    "\n",
    "- `offer received` -> `offer viewed` -> `transaction` -> `offer completed` (bogo/discount offers)\n",
    "- `offer received` -> `offer viewed` -> `transaction` (informational offers - must be within validity period of offer)\n",
    "\n",
    "Our group 1 customers are the people we are after. They use the offers that Starbucks send out and we want ot be able to separate\n",
    "them from the other customers!\n",
    "\n",
    "#### transcript.json\n",
    "\n",
    "- event (str) - record description (ie transaction, offer received, offer viewed, etc.)\n",
    "- person (str) - customer id\n",
    "- time (int) - time in hours since start of test. The data begins at time t=0\n",
    "- value - (dict of strings) - either an offer id or transaction amount depending on the record"
   ],
   "metadata": {
    "collapsed": false
   }
  },
  {
   "cell_type": "code",
   "execution_count": 2,
   "outputs": [],
   "source": [
    "# load in data\n",
    "transcript = pd.read_json('data/transcript.json', orient='records', lines=True)\n",
    "\n",
    "# Rename col names\n",
    "transcript.rename(columns={\"person\": \"customer_id\", \"time\": \"time_h\"}, inplace=True)"
   ],
   "metadata": {
    "collapsed": false,
    "pycharm": {
     "name": "#%%\n"
    }
   }
  },
  {
   "cell_type": "code",
   "execution_count": 3,
   "outputs": [
    {
     "data": {
      "text/plain": "array(['offer received', 'offer viewed', 'transaction', 'offer completed'],\n      dtype=object)"
     },
     "execution_count": 3,
     "metadata": {},
     "output_type": "execute_result"
    }
   ],
   "source": [
    "# There are 4 different events\n",
    "transcript.event.unique()"
   ],
   "metadata": {
    "collapsed": false,
    "pycharm": {
     "name": "#%%\n"
    }
   }
  },
  {
   "cell_type": "code",
   "execution_count": 4,
   "outputs": [],
   "source": [
    "# Pull offer id, value and reward out of value column\n",
    "transcript=pd.concat([transcript, transcript['value'].apply(pd.Series)], axis=1)"
   ],
   "metadata": {
    "collapsed": false,
    "pycharm": {
     "name": "#%%\n"
    }
   }
  },
  {
   "cell_type": "code",
   "execution_count": 5,
   "outputs": [
    {
     "data": {
      "text/plain": "                        customer_id           event  \\\n0  78afa995795e4d85b5d9ceeca43f5fef  offer received   \n1  a03223e636434f42ac4c3df47e8bac43  offer received   \n2  e2127556f4f64592b11af22de27a7932  offer received   \n3  8ec6ce2a7e7949b1bf142def7d0e0586  offer received   \n4  68617ca6246f4fbc85e91a2a49552598  offer received   \n\n                                              value  time_h  amount  reward  \\\n0  {'offer id': '9b98b8c7a33c4b65b9aebfe6a799e6d9'}       0     NaN     NaN   \n1  {'offer id': '0b1e1539f2cc45b7b9fa7c272da2e1d7'}       0     NaN     NaN   \n2  {'offer id': '2906b810c7d4411798c6938adc9daaa5'}       0     NaN     NaN   \n3  {'offer id': 'fafdcd668e3743c1bb461111dcafc2a4'}       0     NaN     NaN   \n4  {'offer id': '4d5c57ea9a6940dd891ad53e9dbe8da0'}       0     NaN     NaN   \n\n                           offer_id  \n0  9b98b8c7a33c4b65b9aebfe6a799e6d9  \n1  0b1e1539f2cc45b7b9fa7c272da2e1d7  \n2  2906b810c7d4411798c6938adc9daaa5  \n3  fafdcd668e3743c1bb461111dcafc2a4  \n4  4d5c57ea9a6940dd891ad53e9dbe8da0  ",
      "text/html": "<div>\n<style scoped>\n    .dataframe tbody tr th:only-of-type {\n        vertical-align: middle;\n    }\n\n    .dataframe tbody tr th {\n        vertical-align: top;\n    }\n\n    .dataframe thead th {\n        text-align: right;\n    }\n</style>\n<table border=\"1\" class=\"dataframe\">\n  <thead>\n    <tr style=\"text-align: right;\">\n      <th></th>\n      <th>customer_id</th>\n      <th>event</th>\n      <th>value</th>\n      <th>time_h</th>\n      <th>amount</th>\n      <th>reward</th>\n      <th>offer_id</th>\n    </tr>\n  </thead>\n  <tbody>\n    <tr>\n      <th>0</th>\n      <td>78afa995795e4d85b5d9ceeca43f5fef</td>\n      <td>offer received</td>\n      <td>{'offer id': '9b98b8c7a33c4b65b9aebfe6a799e6d9'}</td>\n      <td>0</td>\n      <td>NaN</td>\n      <td>NaN</td>\n      <td>9b98b8c7a33c4b65b9aebfe6a799e6d9</td>\n    </tr>\n    <tr>\n      <th>1</th>\n      <td>a03223e636434f42ac4c3df47e8bac43</td>\n      <td>offer received</td>\n      <td>{'offer id': '0b1e1539f2cc45b7b9fa7c272da2e1d7'}</td>\n      <td>0</td>\n      <td>NaN</td>\n      <td>NaN</td>\n      <td>0b1e1539f2cc45b7b9fa7c272da2e1d7</td>\n    </tr>\n    <tr>\n      <th>2</th>\n      <td>e2127556f4f64592b11af22de27a7932</td>\n      <td>offer received</td>\n      <td>{'offer id': '2906b810c7d4411798c6938adc9daaa5'}</td>\n      <td>0</td>\n      <td>NaN</td>\n      <td>NaN</td>\n      <td>2906b810c7d4411798c6938adc9daaa5</td>\n    </tr>\n    <tr>\n      <th>3</th>\n      <td>8ec6ce2a7e7949b1bf142def7d0e0586</td>\n      <td>offer received</td>\n      <td>{'offer id': 'fafdcd668e3743c1bb461111dcafc2a4'}</td>\n      <td>0</td>\n      <td>NaN</td>\n      <td>NaN</td>\n      <td>fafdcd668e3743c1bb461111dcafc2a4</td>\n    </tr>\n    <tr>\n      <th>4</th>\n      <td>68617ca6246f4fbc85e91a2a49552598</td>\n      <td>offer received</td>\n      <td>{'offer id': '4d5c57ea9a6940dd891ad53e9dbe8da0'}</td>\n      <td>0</td>\n      <td>NaN</td>\n      <td>NaN</td>\n      <td>4d5c57ea9a6940dd891ad53e9dbe8da0</td>\n    </tr>\n  </tbody>\n</table>\n</div>"
     },
     "execution_count": 5,
     "metadata": {},
     "output_type": "execute_result"
    }
   ],
   "source": [
    "# combine duplicates names of 'offer id' and 'offer_id'\n",
    "transcript['offer_id_new']=np.where(transcript['offer id'].isnull() & transcript['offer_id'].notnull(),transcript['offer_id'],transcript['offer id'])\n",
    "\n",
    "#drop unnecessary offer_id columns\n",
    "transcript.drop(['offer id','offer_id'],axis=1,inplace=True)\n",
    "\n",
    "#rename offer_id column\n",
    "transcript.rename(columns={'offer_id_new':'offer_id'},inplace=True)\n",
    "\n",
    "transcript.head()"
   ],
   "metadata": {
    "collapsed": false,
    "pycharm": {
     "name": "#%%\n"
    }
   }
  },
  {
   "cell_type": "code",
   "execution_count": 6,
   "outputs": [],
   "source": [
    "# sort values by customer_id and by time\n",
    "transcript=transcript.sort_values(['customer_id','time_h'])\n",
    "\n",
    "# Change offer names to something more readable\n",
    "event_map ={\n",
    "'offer received':1,\n",
    "'offer viewed':2,\n",
    "'transaction':3,\n",
    "'offer completed':4,}\n",
    "\n",
    "transcript['event'] = transcript['event'].map(event_map)"
   ],
   "metadata": {
    "collapsed": false,
    "pycharm": {
     "name": "#%%\n"
    }
   }
  },
  {
   "cell_type": "code",
   "execution_count": 7,
   "outputs": [],
   "source": [
    "list_unique_customers = transcript['customer_id'].unique()"
   ],
   "metadata": {
    "collapsed": false,
    "pycharm": {
     "name": "#%%\n"
    }
   }
  },
  {
   "cell_type": "markdown",
   "source": [
    "Create a subset of the data, loop through each unique customer in the dataset['event'] and identify the sequence (1,2,3,4).\n",
    "\n",
    "They are our group 1 members and have successfully completed either a bogo or discount offer."
   ],
   "metadata": {
    "collapsed": false,
    "pycharm": {
     "name": "#%% md\n"
    }
   }
  },
  {
   "cell_type": "code",
   "execution_count": 8,
   "outputs": [],
   "source": [
    "subset_data = transcript[['customer_id', 'event']]\n",
    "\n",
    "members1 = pd.DataFrame([])\n",
    "\n",
    "for customer in list_unique_customers:\n",
    "    customer_data = subset_data[subset_data['customer_id'] == customer]\n",
    "    grp1_pat = np.asarray([1, 2, 3, 4])\n",
    "    grp1_N = len(grp1_pat)\n",
    "    grp_members = (customer_data['event'].rolling(window=grp1_N , min_periods=grp1_N)\n",
    "                  .apply(lambda x: (x==grp1_pat).all())\n",
    "                  .mask(lambda x: x == 0)\n",
    "                  .bfill(limit=grp1_N-1)\n",
    "                  .fillna(0)\n",
    "                  .astype(bool))\n",
    "    members1 = members1.append(pd.DataFrame(grp_members))\n"
   ],
   "metadata": {
    "collapsed": false,
    "pycharm": {
     "name": "#%%\n"
    }
   }
  },
  {
   "cell_type": "code",
   "execution_count": 9,
   "outputs": [],
   "source": [
    "# merge the boolean members column into the transcript dataframe\n",
    "transcript = pd.merge(transcript, members1, left_index=True, right_index=True)\n",
    "transcript.rename(columns={'event_y':'grp1_members'},inplace=True)\n"
   ],
   "metadata": {
    "collapsed": false,
    "pycharm": {
     "name": "#%%\n"
    }
   }
  },
  {
   "cell_type": "markdown",
   "source": [
    "Create a subset of the data, loop through each unique customer in the dataset['event'] and identify the sequence (1,2,3).\n",
    "\n",
    "They are our group 2 members and have successfully completed either an informational, bogo or discount offer. We will need to split these groups up later!"
   ],
   "metadata": {
    "collapsed": false
   }
  },
  {
   "cell_type": "code",
   "execution_count": 10,
   "outputs": [],
   "source": [
    "subset_data = transcript[['customer_id', 'event_x', 'grp1_members']]\n",
    "\n",
    "members2 = pd.DataFrame([])\n",
    "\n",
    "for customer in list_unique_customers:\n",
    "    customer_data = subset_data[(subset_data['customer_id'] == customer)]\n",
    "    grp1_pat = np.asarray([1, 2, 3])\n",
    "    grp1_N = len(grp1_pat)\n",
    "    grp_members = (customer_data['event_x'].rolling(window=grp1_N , min_periods=grp1_N)\n",
    "                  .apply(lambda x: (x==grp1_pat).all())\n",
    "                  .mask(lambda x: x == 0)\n",
    "                  .bfill(limit=grp1_N-1)\n",
    "                  .fillna(0)\n",
    "                  .astype(bool))\n",
    "    members2 = members2.append(pd.DataFrame(grp_members))\n"
   ],
   "metadata": {
    "collapsed": false,
    "pycharm": {
     "name": "#%%\n"
    }
   }
  },
  {
   "cell_type": "code",
   "execution_count": 11,
   "outputs": [],
   "source": [
    "# merge members into transcript\n",
    "transcript = pd.merge(transcript, members2, left_index=True, right_index=True)"
   ],
   "metadata": {
    "collapsed": false,
    "pycharm": {
     "name": "#%%\n"
    }
   }
  },
  {
   "cell_type": "code",
   "execution_count": 12,
   "outputs": [],
   "source": [
    "# rename columns as a result of the merge\n",
    "transcript.rename(columns={'event_x_x':'event', 'event_x_y': 'grp2_members'},inplace=True)"
   ],
   "metadata": {
    "collapsed": false,
    "pycharm": {
     "name": "#%%\n"
    }
   }
  },
  {
   "cell_type": "code",
   "execution_count": 13,
   "outputs": [],
   "source": [
    "# select only grp 1 and grp 2 members\n",
    "offer_success_df = transcript[(transcript['grp1_members'] == True) | (transcript['grp2_members'] == True)]"
   ],
   "metadata": {
    "collapsed": false,
    "pycharm": {
     "name": "#%%\n"
    }
   }
  },
  {
   "cell_type": "code",
   "execution_count": 14,
   "outputs": [
    {
     "name": "stderr",
     "output_type": "stream",
     "text": [
      "c:\\users\\timot\\.virtualenvs\\capstonev3-gkkpizcc\\lib\\site-packages\\ipykernel_launcher.py:2: SettingWithCopyWarning: \n",
      "A value is trying to be set on a copy of a slice from a DataFrame.\n",
      "Try using .loc[row_indexer,col_indexer] = value instead\n",
      "\n",
      "See the caveats in the documentation: https://pandas.pydata.org/pandas-docs/stable/user_guide/indexing.html#returning-a-view-versus-a-copy\n",
      "  \n"
     ]
    },
    {
     "data": {
      "text/plain": "                            customer_id  event  \\\n55972  0009655768c64bdeb2e877511632db8f      1   \n77705  0009655768c64bdeb2e877511632db8f      2   \n89291  0009655768c64bdeb2e877511632db8f      3   \n56475  00116118485d4dfda04fdbaba9a87b5c      1   \n85769  00116118485d4dfda04fdbaba9a87b5c      2   \n\n                                                  value  time_h  amount  \\\n55972  {'offer id': '5a8bc65990b245e5a138643cd4eb9837'}     168     NaN   \n77705  {'offer id': '5a8bc65990b245e5a138643cd4eb9837'}     192     NaN   \n89291                                 {'amount': 22.16}     228   22.16   \n56475  {'offer id': 'f19421c1d4aa40978ebb69ca19b0e20d'}     168     NaN   \n85769  {'offer id': 'f19421c1d4aa40978ebb69ca19b0e20d'}     216     NaN   \n\n       reward                          offer_id  grp1_members  grp2_members  \n55972     NaN  5a8bc65990b245e5a138643cd4eb9837         False          True  \n77705     NaN  5a8bc65990b245e5a138643cd4eb9837         False          True  \n89291     NaN  5a8bc65990b245e5a138643cd4eb9837         False          True  \n56475     NaN  f19421c1d4aa40978ebb69ca19b0e20d         False          True  \n85769     NaN  f19421c1d4aa40978ebb69ca19b0e20d         False          True  ",
      "text/html": "<div>\n<style scoped>\n    .dataframe tbody tr th:only-of-type {\n        vertical-align: middle;\n    }\n\n    .dataframe tbody tr th {\n        vertical-align: top;\n    }\n\n    .dataframe thead th {\n        text-align: right;\n    }\n</style>\n<table border=\"1\" class=\"dataframe\">\n  <thead>\n    <tr style=\"text-align: right;\">\n      <th></th>\n      <th>customer_id</th>\n      <th>event</th>\n      <th>value</th>\n      <th>time_h</th>\n      <th>amount</th>\n      <th>reward</th>\n      <th>offer_id</th>\n      <th>grp1_members</th>\n      <th>grp2_members</th>\n    </tr>\n  </thead>\n  <tbody>\n    <tr>\n      <th>55972</th>\n      <td>0009655768c64bdeb2e877511632db8f</td>\n      <td>1</td>\n      <td>{'offer id': '5a8bc65990b245e5a138643cd4eb9837'}</td>\n      <td>168</td>\n      <td>NaN</td>\n      <td>NaN</td>\n      <td>5a8bc65990b245e5a138643cd4eb9837</td>\n      <td>False</td>\n      <td>True</td>\n    </tr>\n    <tr>\n      <th>77705</th>\n      <td>0009655768c64bdeb2e877511632db8f</td>\n      <td>2</td>\n      <td>{'offer id': '5a8bc65990b245e5a138643cd4eb9837'}</td>\n      <td>192</td>\n      <td>NaN</td>\n      <td>NaN</td>\n      <td>5a8bc65990b245e5a138643cd4eb9837</td>\n      <td>False</td>\n      <td>True</td>\n    </tr>\n    <tr>\n      <th>89291</th>\n      <td>0009655768c64bdeb2e877511632db8f</td>\n      <td>3</td>\n      <td>{'amount': 22.16}</td>\n      <td>228</td>\n      <td>22.16</td>\n      <td>NaN</td>\n      <td>5a8bc65990b245e5a138643cd4eb9837</td>\n      <td>False</td>\n      <td>True</td>\n    </tr>\n    <tr>\n      <th>56475</th>\n      <td>00116118485d4dfda04fdbaba9a87b5c</td>\n      <td>1</td>\n      <td>{'offer id': 'f19421c1d4aa40978ebb69ca19b0e20d'}</td>\n      <td>168</td>\n      <td>NaN</td>\n      <td>NaN</td>\n      <td>f19421c1d4aa40978ebb69ca19b0e20d</td>\n      <td>False</td>\n      <td>True</td>\n    </tr>\n    <tr>\n      <th>85769</th>\n      <td>00116118485d4dfda04fdbaba9a87b5c</td>\n      <td>2</td>\n      <td>{'offer id': 'f19421c1d4aa40978ebb69ca19b0e20d'}</td>\n      <td>216</td>\n      <td>NaN</td>\n      <td>NaN</td>\n      <td>f19421c1d4aa40978ebb69ca19b0e20d</td>\n      <td>False</td>\n      <td>True</td>\n    </tr>\n  </tbody>\n</table>\n</div>"
     },
     "execution_count": 14,
     "metadata": {},
     "output_type": "execute_result"
    }
   ],
   "source": [
    "# forward fill offer id into transaction rows(event = 3)\n",
    "offer_success_df['offer_id'] = offer_success_df['offer_id'].ffill()\n",
    "# offer_success_df.to_pickle('offer_success.pkl', compression='gzip')\n",
    "offer_success_df.head()"
   ],
   "metadata": {
    "collapsed": false,
    "pycharm": {
     "name": "#%%\n"
    }
   }
  },
  {
   "cell_type": "markdown",
   "source": [
    "### Portfolio data\n",
    "Describes the characteristics of each offer, inc. its duration and the amount a customer needs to spend to complete\n",
    "it (difficulty).\n",
    "\n",
    "We don't need to do much with this dataset, besides converting the categorical variables to dummies. We will do this,\n",
    "but I don' foresee we will actually use these variables.\n",
    "\n",
    "#### portfolio.json\n",
    "\n",
    "- id (string) - offer id\n",
    "- offer_type (string) - type of offer ie BOGO, discount, informational\n",
    "- difficulty (int) - minimum required spend to complete an offer\n",
    "- reward (int) - reward given for completing an offer\n",
    "- duration (int) - time for offer to be open, in days\n",
    "- channels (list of strings)"
   ],
   "metadata": {
    "collapsed": false
   }
  },
  {
   "cell_type": "code",
   "execution_count": 15,
   "outputs": [],
   "source": [
    "# Read in portfolio data\n",
    "portfolio = pd.read_json('data/portfolio.json', orient='records', lines=True)"
   ],
   "metadata": {
    "collapsed": false,
    "pycharm": {
     "name": "#%%\n"
    }
   }
  },
  {
   "cell_type": "code",
   "execution_count": 16,
   "outputs": [],
   "source": [
    "# Get dummies for offer types\n",
    "portfolio.rename(columns={\"id\": \"offer_id\"}, inplace=True)\n",
    "portfolio['dum_offer_type'] = portfolio['offer_type']\n",
    "portfolio = pd.get_dummies(portfolio, columns=['offer_type'])\n",
    "portfolio.rename(columns={\"dum_offer_type\": \"offer_type\"}, inplace=True)"
   ],
   "metadata": {
    "collapsed": false,
    "pycharm": {
     "name": "#%%\n"
    }
   }
  },
  {
   "cell_type": "code",
   "execution_count": 17,
   "outputs": [
    {
     "data": {
      "text/plain": "   reward  difficulty  duration                          offer_id  \\\n0      10          10         7  ae264e3637204a6fb9bb56bc8210ddfd   \n1      10          10         5  4d5c57ea9a6940dd891ad53e9dbe8da0   \n2       0           0         4  3f207df678b143eea3cee63160fa8bed   \n3       5           5         7  9b98b8c7a33c4b65b9aebfe6a799e6d9   \n4       5          20        10  0b1e1539f2cc45b7b9fa7c272da2e1d7   \n\n      offer_type  offer_type_bogo  offer_type_discount  \\\n0           bogo                1                    0   \n1           bogo                1                    0   \n2  informational                0                    0   \n3           bogo                1                    0   \n4       discount                0                    1   \n\n   offer_type_informational  email  mobile  social  web  \n0                         0      1       1       1    0  \n1                         0      1       1       1    1  \n2                         1      1       1       0    1  \n3                         0      1       1       0    1  \n4                         0      1       0       0    1  ",
      "text/html": "<div>\n<style scoped>\n    .dataframe tbody tr th:only-of-type {\n        vertical-align: middle;\n    }\n\n    .dataframe tbody tr th {\n        vertical-align: top;\n    }\n\n    .dataframe thead th {\n        text-align: right;\n    }\n</style>\n<table border=\"1\" class=\"dataframe\">\n  <thead>\n    <tr style=\"text-align: right;\">\n      <th></th>\n      <th>reward</th>\n      <th>difficulty</th>\n      <th>duration</th>\n      <th>offer_id</th>\n      <th>offer_type</th>\n      <th>offer_type_bogo</th>\n      <th>offer_type_discount</th>\n      <th>offer_type_informational</th>\n      <th>email</th>\n      <th>mobile</th>\n      <th>social</th>\n      <th>web</th>\n    </tr>\n  </thead>\n  <tbody>\n    <tr>\n      <th>0</th>\n      <td>10</td>\n      <td>10</td>\n      <td>7</td>\n      <td>ae264e3637204a6fb9bb56bc8210ddfd</td>\n      <td>bogo</td>\n      <td>1</td>\n      <td>0</td>\n      <td>0</td>\n      <td>1</td>\n      <td>1</td>\n      <td>1</td>\n      <td>0</td>\n    </tr>\n    <tr>\n      <th>1</th>\n      <td>10</td>\n      <td>10</td>\n      <td>5</td>\n      <td>4d5c57ea9a6940dd891ad53e9dbe8da0</td>\n      <td>bogo</td>\n      <td>1</td>\n      <td>0</td>\n      <td>0</td>\n      <td>1</td>\n      <td>1</td>\n      <td>1</td>\n      <td>1</td>\n    </tr>\n    <tr>\n      <th>2</th>\n      <td>0</td>\n      <td>0</td>\n      <td>4</td>\n      <td>3f207df678b143eea3cee63160fa8bed</td>\n      <td>informational</td>\n      <td>0</td>\n      <td>0</td>\n      <td>1</td>\n      <td>1</td>\n      <td>1</td>\n      <td>0</td>\n      <td>1</td>\n    </tr>\n    <tr>\n      <th>3</th>\n      <td>5</td>\n      <td>5</td>\n      <td>7</td>\n      <td>9b98b8c7a33c4b65b9aebfe6a799e6d9</td>\n      <td>bogo</td>\n      <td>1</td>\n      <td>0</td>\n      <td>0</td>\n      <td>1</td>\n      <td>1</td>\n      <td>0</td>\n      <td>1</td>\n    </tr>\n    <tr>\n      <th>4</th>\n      <td>5</td>\n      <td>20</td>\n      <td>10</td>\n      <td>0b1e1539f2cc45b7b9fa7c272da2e1d7</td>\n      <td>discount</td>\n      <td>0</td>\n      <td>1</td>\n      <td>0</td>\n      <td>1</td>\n      <td>0</td>\n      <td>0</td>\n      <td>1</td>\n    </tr>\n  </tbody>\n</table>\n</div>"
     },
     "execution_count": 17,
     "metadata": {},
     "output_type": "execute_result"
    }
   ],
   "source": [
    "# get dummies for channels\n",
    "channel_data = portfolio['channels']\n",
    "mlb = MultiLabelBinarizer()\n",
    "dummy_channels = pd.DataFrame(mlb.fit_transform(channel_data),columns=mlb.classes_, index=portfolio.index)\n",
    "portfolio = portfolio.join(dummy_channels)\n",
    "portfolio.drop(columns=['channels'], inplace=True)\n",
    "portfolio.head()"
   ],
   "metadata": {
    "collapsed": false,
    "pycharm": {
     "name": "#%%\n"
    }
   }
  },
  {
   "cell_type": "markdown",
   "source": [
    "### Merge transcript data with portfolio data\n",
    "We will merge in the portfolio data just in case we need it."
   ],
   "metadata": {
    "collapsed": false
   }
  },
  {
   "cell_type": "code",
   "execution_count": 18,
   "outputs": [
    {
     "data": {
      "text/plain": "                        customer_id  event  \\\n0  0009655768c64bdeb2e877511632db8f      1   \n1  0009655768c64bdeb2e877511632db8f      2   \n2  0009655768c64bdeb2e877511632db8f      3   \n3  0020ccbbb6d84e358d3414a3ff76cffd      1   \n4  0020ccbbb6d84e358d3414a3ff76cffd      2   \n\n                                              value  time_h  amount  reward_x  \\\n0  {'offer id': '5a8bc65990b245e5a138643cd4eb9837'}     168     NaN       NaN   \n1  {'offer id': '5a8bc65990b245e5a138643cd4eb9837'}     192     NaN       NaN   \n2                                 {'amount': 22.16}     228   22.16       NaN   \n3  {'offer id': '5a8bc65990b245e5a138643cd4eb9837'}     408     NaN       NaN   \n4  {'offer id': '5a8bc65990b245e5a138643cd4eb9837'}     408     NaN       NaN   \n\n                           offer_id  grp1_members  grp2_members  reward_y  \\\n0  5a8bc65990b245e5a138643cd4eb9837         False          True         0   \n1  5a8bc65990b245e5a138643cd4eb9837         False          True         0   \n2  5a8bc65990b245e5a138643cd4eb9837         False          True         0   \n3  5a8bc65990b245e5a138643cd4eb9837         False          True         0   \n4  5a8bc65990b245e5a138643cd4eb9837         False          True         0   \n\n   difficulty  duration     offer_type  offer_type_bogo  offer_type_discount  \\\n0           0         3  informational                0                    0   \n1           0         3  informational                0                    0   \n2           0         3  informational                0                    0   \n3           0         3  informational                0                    0   \n4           0         3  informational                0                    0   \n\n   offer_type_informational  email  mobile  social  web  \n0                         1      1       1       1    0  \n1                         1      1       1       1    0  \n2                         1      1       1       1    0  \n3                         1      1       1       1    0  \n4                         1      1       1       1    0  ",
      "text/html": "<div>\n<style scoped>\n    .dataframe tbody tr th:only-of-type {\n        vertical-align: middle;\n    }\n\n    .dataframe tbody tr th {\n        vertical-align: top;\n    }\n\n    .dataframe thead th {\n        text-align: right;\n    }\n</style>\n<table border=\"1\" class=\"dataframe\">\n  <thead>\n    <tr style=\"text-align: right;\">\n      <th></th>\n      <th>customer_id</th>\n      <th>event</th>\n      <th>value</th>\n      <th>time_h</th>\n      <th>amount</th>\n      <th>reward_x</th>\n      <th>offer_id</th>\n      <th>grp1_members</th>\n      <th>grp2_members</th>\n      <th>reward_y</th>\n      <th>difficulty</th>\n      <th>duration</th>\n      <th>offer_type</th>\n      <th>offer_type_bogo</th>\n      <th>offer_type_discount</th>\n      <th>offer_type_informational</th>\n      <th>email</th>\n      <th>mobile</th>\n      <th>social</th>\n      <th>web</th>\n    </tr>\n  </thead>\n  <tbody>\n    <tr>\n      <th>0</th>\n      <td>0009655768c64bdeb2e877511632db8f</td>\n      <td>1</td>\n      <td>{'offer id': '5a8bc65990b245e5a138643cd4eb9837'}</td>\n      <td>168</td>\n      <td>NaN</td>\n      <td>NaN</td>\n      <td>5a8bc65990b245e5a138643cd4eb9837</td>\n      <td>False</td>\n      <td>True</td>\n      <td>0</td>\n      <td>0</td>\n      <td>3</td>\n      <td>informational</td>\n      <td>0</td>\n      <td>0</td>\n      <td>1</td>\n      <td>1</td>\n      <td>1</td>\n      <td>1</td>\n      <td>0</td>\n    </tr>\n    <tr>\n      <th>1</th>\n      <td>0009655768c64bdeb2e877511632db8f</td>\n      <td>2</td>\n      <td>{'offer id': '5a8bc65990b245e5a138643cd4eb9837'}</td>\n      <td>192</td>\n      <td>NaN</td>\n      <td>NaN</td>\n      <td>5a8bc65990b245e5a138643cd4eb9837</td>\n      <td>False</td>\n      <td>True</td>\n      <td>0</td>\n      <td>0</td>\n      <td>3</td>\n      <td>informational</td>\n      <td>0</td>\n      <td>0</td>\n      <td>1</td>\n      <td>1</td>\n      <td>1</td>\n      <td>1</td>\n      <td>0</td>\n    </tr>\n    <tr>\n      <th>2</th>\n      <td>0009655768c64bdeb2e877511632db8f</td>\n      <td>3</td>\n      <td>{'amount': 22.16}</td>\n      <td>228</td>\n      <td>22.16</td>\n      <td>NaN</td>\n      <td>5a8bc65990b245e5a138643cd4eb9837</td>\n      <td>False</td>\n      <td>True</td>\n      <td>0</td>\n      <td>0</td>\n      <td>3</td>\n      <td>informational</td>\n      <td>0</td>\n      <td>0</td>\n      <td>1</td>\n      <td>1</td>\n      <td>1</td>\n      <td>1</td>\n      <td>0</td>\n    </tr>\n    <tr>\n      <th>3</th>\n      <td>0020ccbbb6d84e358d3414a3ff76cffd</td>\n      <td>1</td>\n      <td>{'offer id': '5a8bc65990b245e5a138643cd4eb9837'}</td>\n      <td>408</td>\n      <td>NaN</td>\n      <td>NaN</td>\n      <td>5a8bc65990b245e5a138643cd4eb9837</td>\n      <td>False</td>\n      <td>True</td>\n      <td>0</td>\n      <td>0</td>\n      <td>3</td>\n      <td>informational</td>\n      <td>0</td>\n      <td>0</td>\n      <td>1</td>\n      <td>1</td>\n      <td>1</td>\n      <td>1</td>\n      <td>0</td>\n    </tr>\n    <tr>\n      <th>4</th>\n      <td>0020ccbbb6d84e358d3414a3ff76cffd</td>\n      <td>2</td>\n      <td>{'offer id': '5a8bc65990b245e5a138643cd4eb9837'}</td>\n      <td>408</td>\n      <td>NaN</td>\n      <td>NaN</td>\n      <td>5a8bc65990b245e5a138643cd4eb9837</td>\n      <td>False</td>\n      <td>True</td>\n      <td>0</td>\n      <td>0</td>\n      <td>3</td>\n      <td>informational</td>\n      <td>0</td>\n      <td>0</td>\n      <td>1</td>\n      <td>1</td>\n      <td>1</td>\n      <td>1</td>\n      <td>0</td>\n    </tr>\n  </tbody>\n</table>\n</div>"
     },
     "execution_count": 18,
     "metadata": {},
     "output_type": "execute_result"
    }
   ],
   "source": [
    "transcript_portfolio_df = pd.merge(offer_success_df, portfolio, on='offer_id')\n",
    "transcript_portfolio_df.head()"
   ],
   "metadata": {
    "collapsed": false,
    "pycharm": {
     "name": "#%%\n"
    }
   }
  },
  {
   "cell_type": "markdown",
   "source": [
    "## Split the data into a bogo/discount group and an informational group.\n",
    "Split data into group 1 and 2. We know that the group 1 members (BOGO and discount offers) successfully completed the\n",
    "offer in the correct timeframe due to the `offer completed` flag, but we don't have this for the group 2 members (infomrational)\n",
    "so we need to check this independently."
   ],
   "metadata": {
    "collapsed": false,
    "pycharm": {
     "name": "#%% md\n"
    }
   }
  },
  {
   "cell_type": "code",
   "execution_count": 19,
   "outputs": [],
   "source": [
    "grp1_ = transcript_portfolio_df[transcript_portfolio_df['grp1_members'] == True]\n",
    "grp2_ = transcript_portfolio_df[transcript_portfolio_df['grp1_members'] != True]"
   ],
   "metadata": {
    "collapsed": false,
    "pycharm": {
     "name": "#%%\n"
    }
   }
  },
  {
   "cell_type": "markdown",
   "source": [
    "We loop through the grp2_ data in blocks of 3 (to account for the 3 event sequence) and calculate the duration between the offer received and transaction events. If the delta is less than or equal to the duration of the offer then we deem it a success and save the transaction row."
   ],
   "metadata": {
    "collapsed": false,
    "pycharm": {
     "name": "#%% md\n"
    }
   }
  },
  {
   "cell_type": "code",
   "execution_count": 20,
   "outputs": [],
   "source": [
    "grp_2_success = pd.DataFrame()\n",
    "\n",
    "for i in range(0, (len(grp2_)-2), 3):\n",
    "    row1 = grp2_.iloc[i, :]\n",
    "    row3 = grp2_.iloc[i+2, :]\n",
    "    time_limit = row1['duration']*24\n",
    "    time_h = row3['time_h'] - row1['time_h']\n",
    "    if time_h <= time_limit:\n",
    "        grp_2_success = grp_2_success.append(row3)\n"
   ],
   "metadata": {
    "collapsed": false,
    "pycharm": {
     "name": "#%%\n"
    }
   }
  },
  {
   "cell_type": "code",
   "execution_count": 21,
   "outputs": [],
   "source": [
    "# Limit the dataset to only transaction events\n",
    "grp_1_success = grp1_[grp1_['event'] == 3]"
   ],
   "metadata": {
    "collapsed": false,
    "pycharm": {
     "name": "#%%\n"
    }
   }
  },
  {
   "cell_type": "code",
   "execution_count": 22,
   "outputs": [
    {
     "data": {
      "text/plain": "                          customer_id  event              value  time_h  \\\n26   00b3400e4ff64ee68ce9ada1d0c222f0    3.0  {'amount': 23.88}   420.0   \n77   017febbe52e64ac19cf28cf0d44386e4    3.0  {'amount': 31.02}   510.0   \n173  03f1ad04292f47b2b1299cc92f8f2a5d    3.0   {'amount': 25.3}   588.0   \n176  041967ceb80841ddbd306958d4f744ac    3.0   {'amount': 26.8}   576.0   \n281  0632e74a24484c819d06eb086298c406    3.0  {'amount': 17.99}   600.0   \n\n     amount  reward_x                          offer_id  grp1_members  \\\n26    23.88       NaN  5a8bc65990b245e5a138643cd4eb9837           1.0   \n77    31.02       NaN  5a8bc65990b245e5a138643cd4eb9837           1.0   \n173   25.30       NaN  5a8bc65990b245e5a138643cd4eb9837           1.0   \n176   26.80       NaN  5a8bc65990b245e5a138643cd4eb9837           1.0   \n281   17.99       NaN  5a8bc65990b245e5a138643cd4eb9837           1.0   \n\n     grp2_members  reward_y  difficulty  duration     offer_type  \\\n26            1.0       0.0         0.0       3.0  informational   \n77            1.0       0.0         0.0       3.0  informational   \n173           1.0       0.0         0.0       3.0  informational   \n176           1.0       0.0         0.0       3.0  informational   \n281           1.0       0.0         0.0       3.0  informational   \n\n     offer_type_bogo  offer_type_discount  offer_type_informational  email  \\\n26               0.0                  0.0                       1.0    1.0   \n77               0.0                  0.0                       1.0    1.0   \n173              0.0                  0.0                       1.0    1.0   \n176              0.0                  0.0                       1.0    1.0   \n281              0.0                  0.0                       1.0    1.0   \n\n     mobile  social  web  \n26      1.0     1.0  0.0  \n77      1.0     1.0  0.0  \n173     1.0     1.0  0.0  \n176     1.0     1.0  0.0  \n281     1.0     1.0  0.0  ",
      "text/html": "<div>\n<style scoped>\n    .dataframe tbody tr th:only-of-type {\n        vertical-align: middle;\n    }\n\n    .dataframe tbody tr th {\n        vertical-align: top;\n    }\n\n    .dataframe thead th {\n        text-align: right;\n    }\n</style>\n<table border=\"1\" class=\"dataframe\">\n  <thead>\n    <tr style=\"text-align: right;\">\n      <th></th>\n      <th>customer_id</th>\n      <th>event</th>\n      <th>value</th>\n      <th>time_h</th>\n      <th>amount</th>\n      <th>reward_x</th>\n      <th>offer_id</th>\n      <th>grp1_members</th>\n      <th>grp2_members</th>\n      <th>reward_y</th>\n      <th>difficulty</th>\n      <th>duration</th>\n      <th>offer_type</th>\n      <th>offer_type_bogo</th>\n      <th>offer_type_discount</th>\n      <th>offer_type_informational</th>\n      <th>email</th>\n      <th>mobile</th>\n      <th>social</th>\n      <th>web</th>\n    </tr>\n  </thead>\n  <tbody>\n    <tr>\n      <th>26</th>\n      <td>00b3400e4ff64ee68ce9ada1d0c222f0</td>\n      <td>3.0</td>\n      <td>{'amount': 23.88}</td>\n      <td>420.0</td>\n      <td>23.88</td>\n      <td>NaN</td>\n      <td>5a8bc65990b245e5a138643cd4eb9837</td>\n      <td>1.0</td>\n      <td>1.0</td>\n      <td>0.0</td>\n      <td>0.0</td>\n      <td>3.0</td>\n      <td>informational</td>\n      <td>0.0</td>\n      <td>0.0</td>\n      <td>1.0</td>\n      <td>1.0</td>\n      <td>1.0</td>\n      <td>1.0</td>\n      <td>0.0</td>\n    </tr>\n    <tr>\n      <th>77</th>\n      <td>017febbe52e64ac19cf28cf0d44386e4</td>\n      <td>3.0</td>\n      <td>{'amount': 31.02}</td>\n      <td>510.0</td>\n      <td>31.02</td>\n      <td>NaN</td>\n      <td>5a8bc65990b245e5a138643cd4eb9837</td>\n      <td>1.0</td>\n      <td>1.0</td>\n      <td>0.0</td>\n      <td>0.0</td>\n      <td>3.0</td>\n      <td>informational</td>\n      <td>0.0</td>\n      <td>0.0</td>\n      <td>1.0</td>\n      <td>1.0</td>\n      <td>1.0</td>\n      <td>1.0</td>\n      <td>0.0</td>\n    </tr>\n    <tr>\n      <th>173</th>\n      <td>03f1ad04292f47b2b1299cc92f8f2a5d</td>\n      <td>3.0</td>\n      <td>{'amount': 25.3}</td>\n      <td>588.0</td>\n      <td>25.30</td>\n      <td>NaN</td>\n      <td>5a8bc65990b245e5a138643cd4eb9837</td>\n      <td>1.0</td>\n      <td>1.0</td>\n      <td>0.0</td>\n      <td>0.0</td>\n      <td>3.0</td>\n      <td>informational</td>\n      <td>0.0</td>\n      <td>0.0</td>\n      <td>1.0</td>\n      <td>1.0</td>\n      <td>1.0</td>\n      <td>1.0</td>\n      <td>0.0</td>\n    </tr>\n    <tr>\n      <th>176</th>\n      <td>041967ceb80841ddbd306958d4f744ac</td>\n      <td>3.0</td>\n      <td>{'amount': 26.8}</td>\n      <td>576.0</td>\n      <td>26.80</td>\n      <td>NaN</td>\n      <td>5a8bc65990b245e5a138643cd4eb9837</td>\n      <td>1.0</td>\n      <td>1.0</td>\n      <td>0.0</td>\n      <td>0.0</td>\n      <td>3.0</td>\n      <td>informational</td>\n      <td>0.0</td>\n      <td>0.0</td>\n      <td>1.0</td>\n      <td>1.0</td>\n      <td>1.0</td>\n      <td>1.0</td>\n      <td>0.0</td>\n    </tr>\n    <tr>\n      <th>281</th>\n      <td>0632e74a24484c819d06eb086298c406</td>\n      <td>3.0</td>\n      <td>{'amount': 17.99}</td>\n      <td>600.0</td>\n      <td>17.99</td>\n      <td>NaN</td>\n      <td>5a8bc65990b245e5a138643cd4eb9837</td>\n      <td>1.0</td>\n      <td>1.0</td>\n      <td>0.0</td>\n      <td>0.0</td>\n      <td>3.0</td>\n      <td>informational</td>\n      <td>0.0</td>\n      <td>0.0</td>\n      <td>1.0</td>\n      <td>1.0</td>\n      <td>1.0</td>\n      <td>1.0</td>\n      <td>0.0</td>\n    </tr>\n  </tbody>\n</table>\n</div>"
     },
     "execution_count": 22,
     "metadata": {},
     "output_type": "execute_result"
    }
   ],
   "source": [
    "# concatenate the groups back together\n",
    "successful_offer_transactions = pd.concat([grp_1_success, grp_2_success])\n",
    "# successful_offer_transactions.to_pickle('successful_offer_transactions.pkl', compression='gzip')\n",
    "successful_offer_transactions.head()"
   ],
   "metadata": {
    "collapsed": false,
    "pycharm": {
     "name": "#%%\n"
    }
   }
  },
  {
   "cell_type": "markdown",
   "source": [
    "## Data Exploration\n",
    "### Count of transactions from successful offers by offer type\n",
    "It would seem that the bogo offer was most frequently used by customers followed closely by the discount offers.\n",
    "the informational offers were the least used by customers."
   ],
   "metadata": {
    "collapsed": false
   }
  },
  {
   "cell_type": "code",
   "execution_count": 23,
   "outputs": [
    {
     "data": {
      "text/plain": "<Figure size 432x288 with 1 Axes>",
      "image/png": "[encoded data removed]"
     },
     "metadata": {
      "needs_background": "light"
     },
     "output_type": "display_data"
    }
   ],
   "source": [
    "ax = successful_offer_transactions['offer_type'].value_counts().plot.bar();\n",
    "ax.set_ylabel('Count of successful offers');\n",
    "ax.set_xlabel('offer_type');"
   ],
   "metadata": {
    "collapsed": false,
    "pycharm": {
     "name": "#%%\n"
    }
   }
  },
  {
   "cell_type": "code",
   "execution_count": 24,
   "outputs": [],
   "source": [
    "subset = successful_offer_transactions[['amount','offer_type']]\n",
    "sum_trans = subset.groupby('offer_type').agg(['sum'])\n",
    "count_trans = subset.groupby('offer_type').agg(['count'])"
   ],
   "metadata": {
    "collapsed": false,
    "pycharm": {
     "name": "#%% Transaction amounts by offer type\n"
    }
   }
  },
  {
   "cell_type": "markdown",
   "source": [
    "### Total transaction amount by offer type\n",
    "Unsurprisingly, given it was the most used offer type, the bogo offer type also brought in the most money."
   ],
   "metadata": {
    "collapsed": false
   }
  },
  {
   "cell_type": "code",
   "execution_count": 25,
   "outputs": [
    {
     "data": {
      "text/plain": "<Figure size 432x288 with 1 Axes>",
      "image/png": "[encoded data removed]"
     },
     "metadata": {
      "needs_background": "light"
     },
     "output_type": "display_data"
    }
   ],
   "source": [
    "ax1 = sum_trans.plot.bar(legend=False);\n",
    "ax1.set_ylabel('Total transaction value ($)');"
   ],
   "metadata": {
    "collapsed": false,
    "pycharm": {
     "name": "#%%\n"
    }
   }
  },
  {
   "cell_type": "markdown",
   "source": [
    "### Average transaction value\n",
    "Although we see more bogo and discount offers, and therefore the total values of these offers types are larger, the average\n",
    "value for each of the offers is very similar. The discount offer results in the largest average transaction values. In\n",
    "general I think this shows that all offers are equally effective."
   ],
   "metadata": {
    "collapsed": false
   }
  },
  {
   "cell_type": "code",
   "execution_count": 26,
   "outputs": [
    {
     "data": {
      "text/plain": "<Figure size 432x288 with 1 Axes>",
      "image/png": "[encoded data removed]"
     },
     "metadata": {
      "needs_background": "light"
     },
     "output_type": "display_data"
    }
   ],
   "source": [
    "avg_transaction_amount = pd.DataFrame(sum_trans.values/count_trans.values)\n",
    "avg_transaction_amount.rename(columns={0: 'Avg ($) per transaction'}, index={0: 'bogo', 1: 'discount', 2: 'informational'})\n",
    "ax2 = avg_transaction_amount.plot.bar(legend = False)\n",
    "ax2.set_xticklabels(['bogo', 'discount', 'informational'], rotation=90)\n",
    "ax2.set_ylabel('Avg transaction value ($)');\n",
    "ax2.set_xlabel('offer_type');"
   ],
   "metadata": {
    "collapsed": false,
    "pycharm": {
     "name": "#%%\n"
    }
   }
  },
  {
   "cell_type": "markdown",
   "source": [
    "### Number of unique customers per offer type"
   ],
   "metadata": {
    "collapsed": false
   }
  },
  {
   "cell_type": "code",
   "execution_count": 27,
   "outputs": [
    {
     "name": "stdout",
     "output_type": "stream",
     "text": [
      "The bogo offer had 10398 unique customers\n",
      "The discount offer had 9442 unique customers\n",
      "The informational offer had 4281 unique customers\n"
     ]
    }
   ],
   "source": [
    "bogo_unique_cust = successful_offer_transactions[successful_offer_transactions['offer_type'] == 'bogo']['customer_id'].nunique()\n",
    "disc_unique_cust= successful_offer_transactions[successful_offer_transactions['offer_type'] == 'discount']['customer_id'].nunique()\n",
    "info_unique_cust = successful_offer_transactions[successful_offer_transactions['offer_type'] == 'informational']['customer_id'].nunique()\n",
    "\n",
    "print('The bogo offer had {} unique customers'.format(bogo_unique_cust))\n",
    "print('The discount offer had {} unique customers'.format(disc_unique_cust))\n",
    "print('The informational offer had {} unique customers'.format(info_unique_cust))"
   ],
   "metadata": {
    "collapsed": false,
    "pycharm": {
     "name": "#%%\n"
    }
   }
  },
  {
   "cell_type": "markdown",
   "source": [
    "### Number of transactions by offer_id"
   ],
   "metadata": {
    "collapsed": false
   }
  },
  {
   "cell_type": "code",
   "execution_count": 28,
   "outputs": [
    {
     "data": {
      "text/plain": "<Figure size 432x288 with 1 Axes>",
      "image/png": "[encoded data removed]"
     },
     "metadata": {
      "needs_background": "light"
     },
     "output_type": "display_data"
    }
   ],
   "source": [
    "ax3 = successful_offer_transactions['offer_id'].value_counts().plot.bar();\n",
    "ax3.set_ylabel('Count of successful offers');\n",
    "ax3.set_xlabel('offer_id');"
   ],
   "metadata": {
    "collapsed": false,
    "pycharm": {
     "name": "#%%\n"
    }
   }
  },
  {
   "cell_type": "markdown",
   "source": [
    "### Total transaction amount by offer id\n",
    "Unsurprisingly, given it was the most used offer type, the bogo offer type also brought in the most money."
   ],
   "metadata": {
    "collapsed": false
   }
  },
  {
   "cell_type": "code",
   "execution_count": 29,
   "outputs": [
    {
     "data": {
      "text/plain": "<Figure size 432x288 with 1 Axes>",
      "image/png": "[encoded data removed]"
     },
     "metadata": {
      "needs_background": "light"
     },
     "output_type": "display_data"
    }
   ],
   "source": [
    "subset_oids = successful_offer_transactions[['amount','offer_id']]\n",
    "sum_trans_oids = subset_oids.groupby('offer_id').agg(['sum'])\n",
    "count_trans_oids = subset_oids.groupby('offer_id').agg(['count'])\n",
    "\n",
    "ax4 = sum_trans_oids.plot.bar(legend=False);\n",
    "ax4.set_ylabel('Total transaction value ($)');\n"
   ],
   "metadata": {
    "collapsed": false,
    "pycharm": {
     "name": "#%%\n"
    }
   }
  },
  {
   "cell_type": "markdown",
   "source": [
    "### Average transaction value by offer id\n",
    "The least used offer (`0b1e1539f2cc45b7b9fa7c272da2e1d7`), resulted in the most value for starbucks. All offers resulted in\n",
    "an average transaction value greater than $12.50."
   ],
   "metadata": {
    "collapsed": false
   }
  },
  {
   "cell_type": "code",
   "execution_count": 30,
   "outputs": [
    {
     "data": {
      "text/plain": "<Figure size 432x288 with 1 Axes>",
      "image/png": "[encoded data removed]"
     },
     "metadata": {
      "needs_background": "light"
     },
     "output_type": "display_data"
    }
   ],
   "source": [
    "avg_transaction_amount_oids = pd.DataFrame(sum_trans_oids.values/count_trans_oids.values)\n",
    "avg_transaction_amount_oids.rename(columns={0: 'Avg ($) per transaction'})\n",
    "ax5 = avg_transaction_amount_oids.plot.bar(legend = False)\n",
    "ax5.set_xticklabels(['0b1e1539f2cc45b7b9fa7c272da2e1d7',\n",
    "                     '2298d6c36e964ae4a3e7e9706d1fb8c2',\n",
    "                     '2906b810c7d4411798c6938adc9daaa5',\n",
    "                     '3f207df678b143eea3cee63160fa8bed',\n",
    "                     '4d5c57ea9a6940dd891ad53e9dbe8da0',\n",
    "                     '5a8bc65990b245e5a138643cd4eb9837',\n",
    "                     '9b98b8c7a33c4b65b9aebfe6a799e6d9',\n",
    "                     'ae264e3637204a6fb9bb56bc8210ddfd',\n",
    "                     'f19421c1d4aa40978ebb69ca19b0e20d',\n",
    "                     'fafdcd668e3743c1bb461111dcafc2a4'], rotation=90)\n",
    "ax5.set_ylabel('Avg transaction value ($)');\n",
    "ax5.set_xlabel('offer_id');"
   ],
   "metadata": {
    "collapsed": false,
    "pycharm": {
     "name": "#%%\n"
    }
   }
  },
  {
   "cell_type": "code",
   "execution_count": 31,
   "outputs": [
    {
     "data": {
      "text/plain": "array(['00b3400e4ff64ee68ce9ada1d0c222f0',\n       '017febbe52e64ac19cf28cf0d44386e4',\n       '03f1ad04292f47b2b1299cc92f8f2a5d',\n       '041967ceb80841ddbd306958d4f744ac',\n       '0632e74a24484c819d06eb086298c406'], dtype=object)"
     },
     "execution_count": 31,
     "metadata": {},
     "output_type": "execute_result"
    }
   ],
   "source": [
    "# Get list of the unique customers who are using the offers.\n",
    "customers_who_use_offers = successful_offer_transactions['customer_id'].unique()\n",
    "customers_who_use_offers[0:5]"
   ],
   "metadata": {
    "collapsed": false,
    "pycharm": {
     "name": "#%%\n"
    }
   }
  },
  {
   "cell_type": "markdown",
   "source": [
    "# Our customers!\n",
    "Back to our project aim - predicting which customers we should be sending offers too!\n",
    "\n",
    "We have our dataframe of successful transactions. If we take all unique customers from this dataset we have a list of customers\n",
    "who are likely to respond to our offers. Those who aren't in the list can be considered customers who may not respond.\n",
    "\n",
    "We will do some further exploratory analyses on how these groups of customers may differ. We will first need to load in the\n",
    "profile data\n",
    "\n",
    "**profile.json**\n",
    "\n",
    "- age (int) - age of the customer\n",
    "- became_member_on (int) - date when customer created an app account\n",
    "- gender (str) - gender of the customer (note some entries contain 'O' for other rather than M or F)\n",
    "- id (str) - customer id\n",
    "- income (float) - customer's income"
   ],
   "metadata": {
    "collapsed": false
   }
  },
  {
   "cell_type": "code",
   "execution_count": 32,
   "outputs": [
    {
     "data": {
      "text/plain": "    age                       customer_id    income gender_temp  gender_F  \\\n1    55  0610b486422d4921ae7d2bf64640c50b  112000.0           F         1   \n3    75  78afa995795e4d85b5d9ceeca43f5fef  100000.0           F         1   \n5    68  e2127556f4f64592b11af22de27a7932   70000.0           M         0   \n8    65  389bc3fa690240e798340f5a15918d5c   53000.0           M         0   \n12   58  2eeac8d8feae4a8cad5a6af0499a211d   51000.0           M         0   \n\n    gender_M  gender_O date_joined  year  month  membership_duration  \n1          0         0  2017-07-15  2017      7                 1346  \n3          0         0  2017-05-09  2017      5                 1413  \n5          1         0  2018-04-26  2018      4                 1061  \n8          1         0  2018-02-09  2018      2                 1137  \n12         1         0  2017-11-11  2017     11                 1227  ",
      "text/html": "<div>\n<style scoped>\n    .dataframe tbody tr th:only-of-type {\n        vertical-align: middle;\n    }\n\n    .dataframe tbody tr th {\n        vertical-align: top;\n    }\n\n    .dataframe thead th {\n        text-align: right;\n    }\n</style>\n<table border=\"1\" class=\"dataframe\">\n  <thead>\n    <tr style=\"text-align: right;\">\n      <th></th>\n      <th>age</th>\n      <th>customer_id</th>\n      <th>income</th>\n      <th>gender_temp</th>\n      <th>gender_F</th>\n      <th>gender_M</th>\n      <th>gender_O</th>\n      <th>date_joined</th>\n      <th>year</th>\n      <th>month</th>\n      <th>membership_duration</th>\n    </tr>\n  </thead>\n  <tbody>\n    <tr>\n      <th>1</th>\n      <td>55</td>\n      <td>0610b486422d4921ae7d2bf64640c50b</td>\n      <td>112000.0</td>\n      <td>F</td>\n      <td>1</td>\n      <td>0</td>\n      <td>0</td>\n      <td>2017-07-15</td>\n      <td>2017</td>\n      <td>7</td>\n      <td>1346</td>\n    </tr>\n    <tr>\n      <th>3</th>\n      <td>75</td>\n      <td>78afa995795e4d85b5d9ceeca43f5fef</td>\n      <td>100000.0</td>\n      <td>F</td>\n      <td>1</td>\n      <td>0</td>\n      <td>0</td>\n      <td>2017-05-09</td>\n      <td>2017</td>\n      <td>5</td>\n      <td>1413</td>\n    </tr>\n    <tr>\n      <th>5</th>\n      <td>68</td>\n      <td>e2127556f4f64592b11af22de27a7932</td>\n      <td>70000.0</td>\n      <td>M</td>\n      <td>0</td>\n      <td>1</td>\n      <td>0</td>\n      <td>2018-04-26</td>\n      <td>2018</td>\n      <td>4</td>\n      <td>1061</td>\n    </tr>\n    <tr>\n      <th>8</th>\n      <td>65</td>\n      <td>389bc3fa690240e798340f5a15918d5c</td>\n      <td>53000.0</td>\n      <td>M</td>\n      <td>0</td>\n      <td>1</td>\n      <td>0</td>\n      <td>2018-02-09</td>\n      <td>2018</td>\n      <td>2</td>\n      <td>1137</td>\n    </tr>\n    <tr>\n      <th>12</th>\n      <td>58</td>\n      <td>2eeac8d8feae4a8cad5a6af0499a211d</td>\n      <td>51000.0</td>\n      <td>M</td>\n      <td>0</td>\n      <td>1</td>\n      <td>0</td>\n      <td>2017-11-11</td>\n      <td>2017</td>\n      <td>11</td>\n      <td>1227</td>\n    </tr>\n  </tbody>\n</table>\n</div>"
     },
     "execution_count": 32,
     "metadata": {},
     "output_type": "execute_result"
    }
   ],
   "source": [
    "# Load in data\n",
    "profile = pd.read_json('data/profile.json', orient='records', lines=True)\n",
    "\n",
    "# rename id column to align with transcript dataset\n",
    "profile.rename(columns={\"id\": \"customer_id\"}, inplace=True)\n",
    "\n",
    "#drop null values and duplicates - this gets rid of nan and values where age == 118\n",
    "profile.dropna(inplace=True)\n",
    "profile.drop_duplicates(inplace=True)\n",
    "\n",
    "# create dummy vars for model\n",
    "profile['gender_temp'] = profile['gender']\n",
    "profile = pd.get_dummies(profile, columns=['gender'])\n",
    "\n",
    "# convert date into an more easy to use field.\n",
    "profile['date_joined'] = pd.to_datetime(profile.became_member_on, format='%Y%m%d')\n",
    "profile['year'] = pd.DatetimeIndex(profile['date_joined']).year\n",
    "profile['month'] = pd.DatetimeIndex(profile['date_joined']).month\n",
    "profile.drop(columns=['became_member_on'], inplace=True)\n",
    "\n",
    "profile['membership_duration'] = profile['date_joined'].apply(lambda x: pd.Timedelta(pd.Timestamp.now() - x, unit='days'))\n",
    "profile['membership_duration'] = (profile[\"membership_duration\"]).dt.days\n",
    "profile.head()\n"
   ],
   "metadata": {
    "collapsed": false,
    "pycharm": {
     "name": "#%%\n"
    }
   }
  },
  {
   "cell_type": "markdown",
   "source": [
    "### What more can we do?\n",
    "We don't have many usable features to characterise our customers yet. We currently have;\n",
    "\n",
    "1. Age\n",
    "2. Income\n",
    "3. Gender\n",
    "4. Membership duration (this will capture the variance in the other date metrics)\n",
    "\n",
    "Perhaps we can create some more based on the transcript data?\n",
    "\n",
    "5. Number of previous transactions?\n",
    "6. Total value of transactions?\n",
    "7. Spend per transaction?\n",
    "8. Previously used our offers?\n"
   ],
   "metadata": {
    "collapsed": false
   }
  },
  {
   "cell_type": "code",
   "execution_count": 33,
   "outputs": [],
   "source": [
    "# I'm reloading this as I've manipulated the other version of this data\n",
    "transcript_reload = pd.read_json('data/transcript.json', orient='records', lines=True)\n",
    "transcript_reload.rename(columns={\"person\": 'customer_id'}, inplace=True)\n",
    "transcript_transactions = transcript_reload[transcript_reload['event'] == 'transaction']\n",
    "transcript_transactions=pd.concat([transcript_transactions, transcript_transactions['value'].apply(pd.Series)], axis=1)\n",
    "transcript_transactions.drop(columns=['event', 'value', 'time'], inplace=True)\n"
   ],
   "metadata": {
    "collapsed": false,
    "pycharm": {
     "name": "#%%\n"
    }
   }
  },
  {
   "cell_type": "code",
   "execution_count": 34,
   "outputs": [],
   "source": [
    "# Calculate new features (5 and 6 from above)\n",
    "new_customer_features = transcript_transactions.groupby('customer_id').agg(['sum', 'count'])"
   ],
   "metadata": {
    "collapsed": false,
    "pycharm": {
     "name": "#%%\n"
    }
   }
  },
  {
   "cell_type": "code",
   "execution_count": 35,
   "outputs": [
    {
     "name": "stderr",
     "output_type": "stream",
     "text": [
      "c:\\users\\timot\\.virtualenvs\\capstonev3-gkkpizcc\\lib\\site-packages\\pandas\\core\\reshape\\merge.py:648: UserWarning: merging between different levels can give an unintended result (1 levels on the left,2 on the right)\n",
      "  warnings.warn(msg, UserWarning)\n"
     ]
    }
   ],
   "source": [
    "# merge tables and rename new features\n",
    "profile_new_feats = pd.merge(profile, new_customer_features, on='customer_id', how='left')\n",
    "profile_new_feats.rename(columns={('amount', 'sum'): 'total_spend', ('amount','count'): 'num_transactions'}, inplace=True)"
   ],
   "metadata": {
    "collapsed": false,
    "pycharm": {
     "name": "#%%\n"
    }
   }
  },
  {
   "cell_type": "code",
   "execution_count": 36,
   "outputs": [],
   "source": [
    "# Calculate new feature to capture avg spend per transaction (number 7 above\n",
    "profile_new_feats['avg_spend'] = profile_new_feats['total_spend']/profile_new_feats['num_transactions']"
   ],
   "metadata": {
    "collapsed": false,
    "pycharm": {
     "name": "#%%\n"
    }
   }
  },
  {
   "cell_type": "code",
   "execution_count": 37,
   "outputs": [],
   "source": [
    "# create new feature to capture if they have previously successful used an offer (number 8 above)\n",
    "profile_new_feats['used_prev_offers'] = profile_new_feats['customer_id'].apply(lambda x: True if x in customers_who_use_offers else False)"
   ],
   "metadata": {
    "collapsed": false,
    "pycharm": {
     "name": "#%%\n"
    }
   }
  },
  {
   "cell_type": "code",
   "execution_count": 38,
   "outputs": [
    {
     "name": "stdout",
     "output_type": "stream",
     "text": [
      "True     13017\n",
      "False     1808\n",
      "Name: used_prev_offers, dtype: int64\n",
      "14825\n"
     ]
    }
   ],
   "source": [
    "# The sum ot the True and False values should equal the total number of unique customers which they do :-)\n",
    "print(profile_new_feats['used_prev_offers'].value_counts())\n",
    "print(profile['customer_id'].nunique())"
   ],
   "metadata": {
    "collapsed": false,
    "pycharm": {
     "name": "#%%\n"
    }
   }
  },
  {
   "cell_type": "markdown",
   "source": [
    "## Exploratory analysis of profile data\n",
    "\n",
    "Of all the customers in the profile database, 87.8% of them actually use the offers Starbucks send them. The remaining 12.2%\n",
    "either need no encouragement to spend money at Starbucks and therefore we don't want to give them any discounts, unless\n",
    "their loyalty is to be rewarded, or they just aren;t interested in offers and we don't want to annoy them. Although 12.2% seems\n",
    "small compared to 87.8%, I bet its still a large chunk of change! Lets see."
   ],
   "metadata": {
    "collapsed": false
   }
  },
  {
   "cell_type": "markdown",
   "source": [
    "### Transaction value by those who use offers and those who don't"
   ],
   "metadata": {
    "collapsed": false
   }
  },
  {
   "cell_type": "code",
   "execution_count": 39,
   "outputs": [
    {
     "data": {
      "text/plain": "Text(0, 0.5, 'Total value ($)')"
     },
     "execution_count": 39,
     "metadata": {},
     "output_type": "execute_result"
    },
    {
     "data": {
      "text/plain": "<Figure size 432x288 with 1 Axes>",
      "image/png": "[encoded data removed]"
     },
     "metadata": {
      "needs_background": "light"
     },
     "output_type": "display_data"
    }
   ],
   "source": [
    "# Those who use the offers bring in 1.6 million dollars, while those who don't bring in $100k. Not as much as I would have thought,\n",
    "# but still, better to have it then not to have it.\n",
    "ax6 = profile_new_feats[['total_spend','used_prev_offers']].groupby('used_prev_offers').agg(['sum']).plot.bar(legend=False)\n",
    "ax6.set_ylabel('Total value ($)')"
   ],
   "metadata": {
    "collapsed": false,
    "pycharm": {
     "name": "#%%\n"
    }
   }
  },
  {
   "cell_type": "markdown",
   "source": [
    "### Age by those who use offers and those who don't"
   ],
   "metadata": {
    "collapsed": false
   }
  },
  {
   "cell_type": "code",
   "execution_count": 40,
   "outputs": [
    {
     "data": {
      "text/plain": "used_prev_offers\nFalse    AxesSubplot(0.125,0.125;0.775x0.755)\nTrue     AxesSubplot(0.125,0.125;0.775x0.755)\ndtype: object"
     },
     "execution_count": 40,
     "metadata": {},
     "output_type": "execute_result"
    },
    {
     "data": {
      "text/plain": "<Figure size 432x288 with 1 Axes>",
      "image/png": "[encoded data removed]"
     },
     "metadata": {
      "needs_background": "light"
     },
     "output_type": "display_data"
    },
    {
     "data": {
      "text/plain": "<Figure size 432x288 with 1 Axes>",
      "image/png": "[encoded data removed]"
     },
     "metadata": {
      "needs_background": "light"
     },
     "output_type": "display_data"
    }
   ],
   "source": [
    "# Apart from their being many more people in the true group, the distributions are quote similar.\n",
    "profile_new_feats[['age','used_prev_offers']].groupby('used_prev_offers').plot.hist()"
   ],
   "metadata": {
    "collapsed": false,
    "pycharm": {
     "name": "#%%\n"
    }
   }
  },
  {
   "cell_type": "markdown",
   "source": [
    "### Income by those who use offers and those who don't\n",
    "There seems to be a larger proportion of people in the false group (top) compared to the true group (bottom) for the higher\n",
    "earners e.g. those with a salary above 80000k"
   ],
   "metadata": {
    "collapsed": false
   }
  },
  {
   "cell_type": "code",
   "execution_count": 41,
   "outputs": [
    {
     "data": {
      "text/plain": "<Figure size 432x288 with 1 Axes>",
      "image/png": "[encoded data removed]"
     },
     "metadata": {
      "needs_background": "light"
     },
     "output_type": "display_data"
    },
    {
     "data": {
      "text/plain": "<Figure size 432x288 with 1 Axes>",
      "image/png": "[encoded data removed]"
     },
     "metadata": {
      "needs_background": "light"
     },
     "output_type": "display_data"
    }
   ],
   "source": [
    "ax7 = profile_new_feats[['income','used_prev_offers']].groupby('used_prev_offers').plot.hist()"
   ],
   "metadata": {
    "collapsed": false,
    "pycharm": {
     "name": "#%%\n"
    }
   }
  },
  {
   "cell_type": "markdown",
   "source": [
    "### Gender by those who use offers and those who don't\n",
    "Fairly well balanced on gender"
   ],
   "metadata": {
    "collapsed": false
   }
  },
  {
   "cell_type": "code",
   "execution_count": 42,
   "outputs": [
    {
     "data": {
      "text/plain": "gender_temp  used_prev_offers\nM            True                7457\nF            True                5373\nM            False               1027\nF            False                756\nO            True                 187\n             False                 25\ndtype: int64"
     },
     "execution_count": 42,
     "metadata": {},
     "output_type": "execute_result"
    }
   ],
   "source": [
    "profile_new_feats[['gender_temp','used_prev_offers']].value_counts()\n"
   ],
   "metadata": {
    "collapsed": false,
    "pycharm": {
     "name": "#%%\n"
    }
   }
  },
  {
   "cell_type": "markdown",
   "source": [
    "### Membership duration by those who use offers and those who don't\n",
    "There is a larger proportion of those who use offers (bottom) when they have been a member for longer."
   ],
   "metadata": {
    "collapsed": false
   }
  },
  {
   "cell_type": "code",
   "execution_count": 43,
   "outputs": [
    {
     "data": {
      "text/plain": "used_prev_offers\nFalse    AxesSubplot(0.125,0.125;0.775x0.755)\nTrue     AxesSubplot(0.125,0.125;0.775x0.755)\ndtype: object"
     },
     "execution_count": 43,
     "metadata": {},
     "output_type": "execute_result"
    },
    {
     "data": {
      "text/plain": "<Figure size 432x288 with 1 Axes>",
      "image/png": "[encoded data removed]"
     },
     "metadata": {
      "needs_background": "light"
     },
     "output_type": "display_data"
    },
    {
     "data": {
      "text/plain": "<Figure size 432x288 with 1 Axes>",
      "image/png": "[encoded data removed]"
     },
     "metadata": {
      "needs_background": "light"
     },
     "output_type": "display_data"
    }
   ],
   "source": [
    "profile_new_feats[['membership_duration','used_prev_offers']].groupby('used_prev_offers').plot.hist()\n"
   ],
   "metadata": {
    "collapsed": false,
    "pycharm": {
     "name": "#%%\n"
    }
   }
  },
  {
   "cell_type": "markdown",
   "source": [
    "### Number of previous transactions by those who use offers and those who don't\n",
    "There is a greater proportion of people with more transactions for those who use offers than those who do not."
   ],
   "metadata": {
    "collapsed": false
   }
  },
  {
   "cell_type": "code",
   "execution_count": 44,
   "outputs": [
    {
     "data": {
      "text/plain": "used_prev_offers\nFalse    AxesSubplot(0.125,0.125;0.775x0.755)\nTrue     AxesSubplot(0.125,0.125;0.775x0.755)\ndtype: object"
     },
     "execution_count": 44,
     "metadata": {},
     "output_type": "execute_result"
    },
    {
     "data": {
      "text/plain": "<Figure size 432x288 with 1 Axes>",
      "image/png": "[encoded data removed]"
     },
     "metadata": {
      "needs_background": "light"
     },
     "output_type": "display_data"
    },
    {
     "data": {
      "text/plain": "<Figure size 432x288 with 1 Axes>",
      "image/png": "[encoded data removed]"
     },
     "metadata": {
      "needs_background": "light"
     },
     "output_type": "display_data"
    }
   ],
   "source": [
    "profile_new_feats[['num_transactions','used_prev_offers']].groupby('used_prev_offers').plot.hist()"
   ],
   "metadata": {
    "collapsed": false,
    "pycharm": {
     "name": "#%%\n"
    }
   }
  },
  {
   "cell_type": "markdown",
   "source": [
    "### Number of previous transactions by those who use offers and those who don't\n",
    "There are not many differences between avg spend"
   ],
   "metadata": {
    "collapsed": false
   }
  },
  {
   "cell_type": "code",
   "execution_count": 45,
   "outputs": [
    {
     "data": {
      "text/plain": "used_prev_offers\nFalse    AxesSubplot(0.125,0.125;0.775x0.755)\nTrue     AxesSubplot(0.125,0.125;0.775x0.755)\ndtype: object"
     },
     "execution_count": 45,
     "metadata": {},
     "output_type": "execute_result"
    },
    {
     "data": {
      "text/plain": "<Figure size 432x288 with 1 Axes>",
      "image/png": "[encoded data removed]"
     },
     "metadata": {
      "needs_background": "light"
     },
     "output_type": "display_data"
    },
    {
     "data": {
      "text/plain": "<Figure size 432x288 with 1 Axes>",
      "image/png": "[encoded data removed]"
     },
     "metadata": {
      "needs_background": "light"
     },
     "output_type": "display_data"
    }
   ],
   "source": [
    "profile_new_feats[['avg_spend','used_prev_offers']].groupby('used_prev_offers').plot.hist()"
   ],
   "metadata": {
    "collapsed": false,
    "pycharm": {
     "name": "#%%\n"
    }
   }
  },
  {
   "cell_type": "markdown",
   "source": [
    "### Number of previous transactions by those who use offers and those who don't\n",
    "There are not many differences between avg spend"
   ],
   "metadata": {
    "collapsed": false
   }
  },
  {
   "cell_type": "code",
   "execution_count": 46,
   "outputs": [
    {
     "data": {
      "text/plain": "used_prev_offers\nFalse    AxesSubplot(0.125,0.125;0.775x0.755)\nTrue     AxesSubplot(0.125,0.125;0.775x0.755)\ndtype: object"
     },
     "execution_count": 46,
     "metadata": {},
     "output_type": "execute_result"
    },
    {
     "data": {
      "text/plain": "<Figure size 432x288 with 1 Axes>",
      "image/png": "[encoded data removed]"
     },
     "metadata": {
      "needs_background": "light"
     },
     "output_type": "display_data"
    },
    {
     "data": {
      "text/plain": "<Figure size 432x288 with 1 Axes>",
      "image/png": "[encoded data removed]"
     },
     "metadata": {
      "needs_background": "light"
     },
     "output_type": "display_data"
    }
   ],
   "source": [
    "profile_new_feats[['avg_spend','used_prev_offers']].groupby('used_prev_offers').plot.hist()"
   ],
   "metadata": {
    "collapsed": false,
    "pycharm": {
     "name": "#%%\n"
    }
   }
  },
  {
   "cell_type": "markdown",
   "source": [
    "## Final steps to get the data ready for the model\n",
    "\n",
    "Lets drop the columns we don't need. We also have a few nans, where the number of transactions, avg spend and total spend\n",
    "are 0 so we will replace these nans with 0s."
   ],
   "metadata": {
    "collapsed": false
   }
  },
  {
   "cell_type": "code",
   "execution_count": 47,
   "outputs": [],
   "source": [
    "profile_new_feats[['num_transactions', 'avg_spend','total_spend']] = profile_new_feats[['num_transactions', 'avg_spend','total_spend']].fillna(0)"
   ],
   "metadata": {
    "collapsed": false,
    "pycharm": {
     "name": "#%%\n"
    }
   }
  },
  {
   "cell_type": "code",
   "execution_count": 48,
   "outputs": [],
   "source": [
    "profile_new_feats.drop(['gender_temp','date_joined', 'year', 'month', 'customer_id'],axis=1,inplace=True)\n",
    "y = profile_new_feats['used_prev_offers']\n",
    "X = profile_new_feats.drop(columns=['used_prev_offers'])"
   ],
   "metadata": {
    "collapsed": false,
    "pycharm": {
     "name": "#%%\n"
    }
   }
  },
  {
   "cell_type": "markdown",
   "source": [
    "The classes are unbalanced, we will use SMOTE resampling to re-balance the dataset."
   ],
   "metadata": {
    "collapsed": false
   }
  },
  {
   "cell_type": "code",
   "execution_count": 49,
   "outputs": [
    {
     "data": {
      "text/plain": "False    13017\nTrue     13017\nName: used_prev_offers, dtype: int64"
     },
     "execution_count": 49,
     "metadata": {},
     "output_type": "execute_result"
    }
   ],
   "source": [
    "method = SMOTE() # we will create synthetic samples for the minority class\n",
    "X_resampled, y_resampled = method.fit_resample(X, y)\n",
    "y_resampled.value_counts() # classes are now balanced"
   ],
   "metadata": {
    "collapsed": false,
    "pycharm": {
     "name": "#%%\n"
    }
   }
  },
  {
   "cell_type": "markdown",
   "source": [
    "Create our training and testing data"
   ],
   "metadata": {
    "collapsed": false
   }
  },
  {
   "cell_type": "code",
   "execution_count": 50,
   "outputs": [],
   "source": [
    "X_train, X_test, y_train, y_test = train_test_split(X_resampled, y_resampled,  test_size=0.3, random_state=45)"
   ],
   "metadata": {
    "collapsed": false,
    "pycharm": {
     "name": "#%%\n"
    }
   }
  },
  {
   "cell_type": "markdown",
   "source": [
    "## Create our model pipeline for Random Forest"
   ],
   "metadata": {
    "collapsed": false,
    "pycharm": {
     "name": "#%% md\n"
    }
   }
  },
  {
   "cell_type": "code",
   "execution_count": 51,
   "outputs": [],
   "source": [
    "def model_pipeline():\n",
    "    numeric_features = ['age', 'income', 'membership_duration', 'total_spend', 'num_transactions', 'avg_spend']\n",
    "    numeric_transformer = Pipeline(steps=[('scaler', MinMaxScaler())])\n",
    "\n",
    "    preprocessor = ColumnTransformer(\n",
    "        transformers=[\n",
    "            ('num', numeric_transformer, numeric_features)])\n",
    "\n",
    "    clf = Pipeline(steps=[('preprocessor', preprocessor),\n",
    "                          ('clf', RandomForestClassifier())])\n",
    "\n",
    "    # CV params\n",
    "    parameters = {'clf__criterion': [\"gini\", \"entropy\"],\n",
    "                  'clf__max_features': ['auto', 'sqrt', 'log2'],\n",
    "                  'clf__max_depth': [2, 4, 8, 16, 32, None],\n",
    "                  'clf__n_estimators': [5, 10, 50, 100, 250]}\n",
    "\n",
    "    cv = GridSearchCV(clf, param_grid=parameters, n_jobs=-1)\n",
    "    return cv"
   ],
   "metadata": {
    "collapsed": false,
    "pycharm": {
     "name": "#%%\n"
    }
   }
  },
  {
   "cell_type": "code",
   "execution_count": 52,
   "outputs": [
    {
     "name": "stdout",
     "output_type": "stream",
     "text": [
      "{'clf__criterion': 'entropy', 'clf__max_depth': None, 'clf__max_features': 'log2', 'clf__n_estimators': 250}\n",
      "model score: 0.923\n"
     ]
    }
   ],
   "source": [
    "model = model_pipeline()  # instantiate pipeline with gridsearchCV included\n",
    "model.fit(X_train, y_train)\n",
    "print(model.best_params_)\n",
    "\n",
    "print(\"model score: %.3f\" % model.score(X_test, y_test))"
   ],
   "metadata": {
    "collapsed": false,
    "pycharm": {
     "name": "#%%\n"
    }
   }
  },
  {
   "cell_type": "code",
   "execution_count": 53,
   "outputs": [
    {
     "name": "stdout",
     "output_type": "stream",
     "text": [
      "              precision    recall  f1-score   support\n",
      "\n",
      "       False       0.95      0.89      0.92      3941\n",
      "        True       0.90      0.95      0.92      3870\n",
      "\n",
      "    accuracy                           0.92      7811\n",
      "   macro avg       0.92      0.92      0.92      7811\n",
      "weighted avg       0.92      0.92      0.92      7811\n",
      "\n"
     ]
    }
   ],
   "source": [
    "y_pred = model.predict(X_test)\n",
    "print(classification_report(y_test, y_pred))# predict on test data"
   ],
   "metadata": {
    "collapsed": false,
    "pycharm": {
     "name": "#%%\n"
    }
   }
  },
  {
   "cell_type": "code",
   "execution_count": 54,
   "outputs": [
    {
     "data": {
      "text/plain": "<Figure size 432x288 with 2 Axes>",
      "image/png": "[encoded data removed]"
     },
     "metadata": {
      "needs_background": "light"
     },
     "output_type": "display_data"
    }
   ],
   "source": [
    "plot_confusion_matrix(model, X_test, y_test, normalize='true');"
   ],
   "metadata": {
    "collapsed": false,
    "pycharm": {
     "name": "#%%\n"
    }
   }
  },
  {
   "cell_type": "markdown",
   "source": [
    "## Create our model pipeline for Adaboost forest"
   ],
   "metadata": {
    "collapsed": false
   }
  },
  {
   "cell_type": "code",
   "execution_count": 55,
   "outputs": [
    {
     "name": "stdout",
     "output_type": "stream",
     "text": [
      "model score: 0.902\n"
     ]
    }
   ],
   "source": [
    "def model_pipeline():\n",
    "    numeric_features = ['age', 'income', 'membership_duration', 'total_spend', 'num_transactions', 'avg_spend']\n",
    "    numeric_transformer = Pipeline(steps=[('scaler', MinMaxScaler())])\n",
    "\n",
    "    preprocessor = ColumnTransformer(\n",
    "        transformers=[\n",
    "            ('num', numeric_transformer, numeric_features)])\n",
    "\n",
    "    clf = Pipeline(steps=[('preprocessor', preprocessor),\n",
    "                          ('clf', AdaBoostClassifier())])\n",
    "\n",
    "    # CV params\n",
    "    parameters = {'clf__learning_rate': [0.001, 0.01, 0.1, 1.0],\n",
    "                  'clf__n_estimators': [10, 50, 100, 250, 500]}\n",
    "\n",
    "    cv = GridSearchCV(clf, param_grid=parameters, n_jobs=-1)\n",
    "    return cv\n",
    "\n",
    "model = model_pipeline()  # instantiate pipeline with gridsearchCV included\n",
    "model.fit(X_train, y_train)\n",
    "# print(model.get_params().keys())\n",
    "\n",
    "print(\"model score: %.3f\" % model.score(X_test, y_test))"
   ],
   "metadata": {
    "collapsed": false,
    "pycharm": {
     "name": "#%%\n"
    }
   }
  },
  {
   "cell_type": "code",
   "execution_count": 56,
   "outputs": [
    {
     "name": "stdout",
     "output_type": "stream",
     "text": [
      "{'clf__learning_rate': 1.0, 'clf__n_estimators': 500}\n",
      "              precision    recall  f1-score   support\n",
      "\n",
      "       False       0.96      0.84      0.90      3941\n",
      "        True       0.86      0.96      0.91      3870\n",
      "\n",
      "    accuracy                           0.90      7811\n",
      "   macro avg       0.91      0.90      0.90      7811\n",
      "weighted avg       0.91      0.90      0.90      7811\n",
      "\n"
     ]
    }
   ],
   "source": [
    "print(model.best_params_)\n",
    "y_pred = model.predict(X_test)\n",
    "print(classification_report(y_test, y_pred))# predict on test data"
   ],
   "metadata": {
    "collapsed": false,
    "pycharm": {
     "name": "#%%\n"
    }
   }
  },
  {
   "cell_type": "code",
   "execution_count": 57,
   "outputs": [
    {
     "data": {
      "text/plain": "<Figure size 432x288 with 2 Axes>",
      "image/png": "[encoded data removed]"
     },
     "metadata": {
      "needs_background": "light"
     },
     "output_type": "display_data"
    }
   ],
   "source": [
    "plot_confusion_matrix(model, X_test, y_test, normalize='true');\n"
   ],
   "metadata": {
    "collapsed": false,
    "pycharm": {
     "name": "#%%\n"
    }
   }
  }
 ],
 "metadata": {
  "kernelspec": {
   "display_name": "Python 3",
   "language": "python",
   "name": "python3"
  },
  "language_info": {
   "codemirror_mode": {
    "name": "ipython",
    "version": 2
   },
   "file_extension": ".py",
   "mimetype": "text/x-python",
   "name": "python",
   "nbconvert_exporter": "python",
   "pygments_lexer": "ipython2",
   "version": "2.7.6"
  }
 },
 "nbformat": 4,
 "nbformat_minor": 0
}